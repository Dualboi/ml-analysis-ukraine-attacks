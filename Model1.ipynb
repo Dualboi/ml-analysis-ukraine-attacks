{
 "cells": [
  {
   "cell_type": "markdown",
   "metadata": {},
   "source": [
    "# Problem 1: Predicting Number of Attacks Next Month"
   ]
  },
  {
   "cell_type": "markdown",
   "metadata": {},
   "source": [
    "## Checking pre prerequisites before starting to build the model"
   ]
  },
  {
   "cell_type": "code",
   "execution_count": 1,
   "metadata": {},
   "outputs": [],
   "source": [
    "from sklearn.linear_model import LinearRegression\n",
    "from sklearn.model_selection import train_test_split\n",
    "from sklearn.metrics import mean_squared_error\n",
    "%matplotlib inline\n",
    "import numpy as np\n",
    "import matplotlib.pyplot as plt\n",
    "import pandas as pd\n",
    "import seaborn as sns\n",
    "sns.set_theme (style=\"darkgrid\")\n"
   ]
  },
  {
   "cell_type": "code",
   "execution_count": 3,
   "metadata": {},
   "outputs": [],
   "source": [
    "# Load the dataset\n",
    "df = pd.read_csv(\"linear_regression_dataset.csv\")\n",
    "\n",
    "prob1_dataset = df"
   ]
  },
  {
   "cell_type": "code",
   "execution_count": 4,
   "metadata": {},
   "outputs": [],
   "source": [
    "# Dropping any null values\n",
    "prob1_dataset = prob1_dataset.dropna()"
   ]
  },
  {
   "cell_type": "code",
   "execution_count": 5,
   "metadata": {},
   "outputs": [
    {
     "name": "stderr",
     "output_type": "stream",
     "text": [
      "/var/folders/cc/xzk8m4152gg0hn0wv4f7djc80000gn/T/ipykernel_80056/1254825405.py:1: SettingWithCopyWarning: \n",
      "A value is trying to be set on a copy of a slice from a DataFrame.\n",
      "Try using .loc[row_indexer,col_indexer] = value instead\n",
      "\n",
      "See the caveats in the documentation: https://pandas.pydata.org/pandas-docs/stable/user_guide/indexing.html#returning-a-view-versus-a-copy\n",
      "  prob1_dataset['time_start'] = pd.to_datetime(prob1_dataset['time_start'])\n",
      "/var/folders/cc/xzk8m4152gg0hn0wv4f7djc80000gn/T/ipykernel_80056/1254825405.py:4: SettingWithCopyWarning: \n",
      "A value is trying to be set on a copy of a slice from a DataFrame.\n",
      "Try using .loc[row_indexer,col_indexer] = value instead\n",
      "\n",
      "See the caveats in the documentation: https://pandas.pydata.org/pandas-docs/stable/user_guide/indexing.html#returning-a-view-versus-a-copy\n",
      "  prob1_dataset['month'] = prob1_dataset['time_start'].dt.month\n",
      "/var/folders/cc/xzk8m4152gg0hn0wv4f7djc80000gn/T/ipykernel_80056/1254825405.py:5: SettingWithCopyWarning: \n",
      "A value is trying to be set on a copy of a slice from a DataFrame.\n",
      "Try using .loc[row_indexer,col_indexer] = value instead\n",
      "\n",
      "See the caveats in the documentation: https://pandas.pydata.org/pandas-docs/stable/user_guide/indexing.html#returning-a-view-versus-a-copy\n",
      "  prob1_dataset['day'] = prob1_dataset['time_start'].dt.day\n",
      "/var/folders/cc/xzk8m4152gg0hn0wv4f7djc80000gn/T/ipykernel_80056/1254825405.py:8: SettingWithCopyWarning: \n",
      "A value is trying to be set on a copy of a slice from a DataFrame\n",
      "\n",
      "See the caveats in the documentation: https://pandas.pydata.org/pandas-docs/stable/user_guide/indexing.html#returning-a-view-versus-a-copy\n",
      "  prob1_dataset.drop(columns=['time_start'], inplace=True)\n"
     ]
    }
   ],
   "source": [
    "prob1_dataset['time_start'] = pd.to_datetime(prob1_dataset['time_start'])\n",
    "\n",
    "# Extracting month and day from time star\n",
    "prob1_dataset['month'] = prob1_dataset['time_start'].dt.month\n",
    "prob1_dataset['day'] = prob1_dataset['time_start'].dt.day\n",
    "\n",
    "# Now drop the datetime column\n",
    "prob1_dataset.drop(columns=['time_start'], inplace=True)"
   ]
  },
  {
   "cell_type": "code",
   "execution_count": 6,
   "metadata": {},
   "outputs": [
    {
     "data": {
      "text/plain": [
       "launched               float64\n",
       "destroyed              float64\n",
       "model                   object\n",
       "launched_next_month    float64\n",
       "month                    int32\n",
       "day                      int32\n",
       "dtype: object"
      ]
     },
     "execution_count": 6,
     "metadata": {},
     "output_type": "execute_result"
    }
   ],
   "source": [
    "prob1_dataset.dtypes"
   ]
  },
  {
   "cell_type": "code",
   "execution_count": 7,
   "metadata": {},
   "outputs": [],
   "source": [
    "# One hot encoding the model column as it is an object dt which the model cannot read\n",
    "prob1_dataset = pd.get_dummies(prob1_dataset, columns=['model'])\n"
   ]
  },
  {
   "cell_type": "markdown",
   "metadata": {},
   "source": [
    "## Building the model"
   ]
  },
  {
   "cell_type": "code",
   "execution_count": 18,
   "metadata": {},
   "outputs": [
    {
     "name": "stdout",
     "output_type": "stream",
     "text": [
      "RMSE: 31.93\n"
     ]
    }
   ],
   "source": [
    "# Setting features and target\n",
    "X = prob1_dataset.drop(columns=['launched_next_month'])\n",
    "y = prob1_dataset['launched_next_month']\n",
    "\n",
    "# Split\n",
    "X_train, X_test, y_train, y_test = train_test_split(\n",
    "    X, y, test_size=0.2, random_state=42\n",
    ")\n",
    "\n",
    "# Train\n",
    "model = LinearRegression()\n",
    "model.fit(X_train, y_train)\n",
    "\n",
    "# Predict and evaluate\n",
    "y_pred = model.predict(X_test)\n",
    "rmse = np.sqrt(mean_squared_error(y_test, y_pred))\n",
    "print(f\"RMSE: {rmse:.2f}\")"
   ]
  },
  {
   "cell_type": "markdown",
   "metadata": {},
   "source": [
    "## Switching to using the launched value instead in the model"
   ]
  },
  {
   "cell_type": "code",
   "execution_count": 20,
   "metadata": {},
   "outputs": [
    {
     "name": "stdout",
     "output_type": "stream",
     "text": [
      "RMSE: 8.72\n"
     ]
    }
   ],
   "source": [
    "# Setting features and target\n",
    "X = prob1_dataset.drop(columns=['launched'])\n",
    "y = prob1_dataset['launched']\n",
    "\n",
    "# Split\n",
    "X_train, X_test, y_train, y_test = train_test_split(\n",
    "    X, y, test_size=0.2, random_state=42\n",
    ")\n",
    "\n",
    "# Train\n",
    "model = LinearRegression()\n",
    "model.fit(X_train, y_train)\n",
    "\n",
    "# Predict and evaluate\n",
    "y_pred = model.predict(X_test)\n",
    "rmse = np.sqrt(mean_squared_error(y_test, y_pred))\n",
    "print(f\"RMSE: {rmse:.2f}\")\n"
   ]
  },
  {
   "cell_type": "code",
   "execution_count": 21,
   "metadata": {},
   "outputs": [
    {
     "data": {
      "text/plain": [
       "0.908170508426249"
      ]
     },
     "execution_count": 21,
     "metadata": {},
     "output_type": "execute_result"
    }
   ],
   "source": [
    "from sklearn.metrics import r2_score\n",
    "r2_score(y_test, y_pred)"
   ]
  },
  {
   "cell_type": "code",
   "execution_count": 24,
   "metadata": {},
   "outputs": [
    {
     "name": "stdout",
     "output_type": "stream",
     "text": [
      "Average number of missiles launched next month 13.88\n"
     ]
    }
   ],
   "source": [
    "y_mean = y.mean()\n",
    "print('Average number of missiles launched next month',f\"{y_mean:.2f}\")  # Prints average number of missiles launched next month\n"
   ]
  },
  {
   "cell_type": "code",
   "execution_count": 26,
   "metadata": {},
   "outputs": [
    {
     "data": {
      "image/png": "[encoded data removed]",
      "text/plain": [
       "<Figure size 1000x600 with 1 Axes>"
      ]
     },
     "metadata": {},
     "output_type": "display_data"
    },
    {
     "name": "stdout",
     "output_type": "stream",
     "text": [
      "RMSE: 8.72\n"
     ]
    }
   ],
   "source": [
    "import numpy as np\n",
    "import matplotlib.pyplot as plt\n",
    "import seaborn as sns\n",
    "\n",
    "# Calculate residuals\n",
    "residuals = y_test - y_pred\n",
    "\n",
    "# Plotting\n",
    "plt.figure(figsize=(10, 6))\n",
    "\n",
    "# Residuals vs Predicted values plot\n",
    "plt.scatter(y_pred, residuals, color='blue', alpha=0.6)\n",
    "plt.axhline(y=0, color='red', linestyle='--')\n",
    "plt.title('Residuals vs Predicted Values')\n",
    "plt.xlabel('Predicted Values')\n",
    "plt.ylabel('Residuals')\n",
    "\n",
    "# Optional: Add lines to identify outliers (this is one way to define outliers, e.g., beyond 2 standard deviations)\n",
    "std_residuals = np.std(residuals)\n",
    "outlier_threshold_upper = std_residuals * 2\n",
    "outlier_threshold_lower = -std_residuals * 2\n",
    "\n",
    "plt.axhline(y=outlier_threshold_upper, color='green', linestyle='--', label='Upper Outlier Threshold')\n",
    "plt.axhline(y=outlier_threshold_lower, color='green', linestyle='--', label='Lower Outlier Threshold')\n",
    "\n",
    "plt.legend()\n",
    "plt.show()\n",
    "\n",
    "# Print RMSE\n",
    "print(f\"RMSE: {rmse:.2f}\")\n"
   ]
  },
  {
   "cell_type": "markdown",
   "metadata": {},
   "source": [
    "Trying to use random forest for increased accuracy"
   ]
  },
  {
   "cell_type": "code",
   "execution_count": null,
   "metadata": {},
   "outputs": [],
   "source": []
  },
  {
   "cell_type": "code",
   "execution_count": 13,
   "metadata": {},
   "outputs": [
    {
     "name": "stdout",
     "output_type": "stream",
     "text": [
      "<class 'pandas.core.frame.DataFrame'>\n",
      "Index: 2309 entries, 0 to 2320\n",
      "Data columns (total 67 columns):\n",
      " #   Column                                             Non-Null Count  Dtype  \n",
      "---  ------                                             --------------  -----  \n",
      " 0   launched                                           2309 non-null   float64\n",
      " 1   destroyed                                          2309 non-null   float64\n",
      " 2   launched_next_month                                2309 non-null   float64\n",
      " 3   month                                              2309 non-null   int32  \n",
      " 4   day                                                2309 non-null   int32  \n",
      " 5   model_3M22 Zircon                                  2309 non-null   bool   \n",
      " 6   model_Aerial Bomb                                  2309 non-null   bool   \n",
      " 7   model_Ballistic Missile                            2309 non-null   bool   \n",
      " 8   model_C-300                                        2309 non-null   bool   \n",
      " 9   model_C-300/C-400                                  2309 non-null   bool   \n",
      " 10  model_C-300/C-400 and Iskander-M                   2309 non-null   bool   \n",
      " 11  model_C-400                                        2309 non-null   bool   \n",
      " 12  model_C-400 and Iskander-M                         2309 non-null   bool   \n",
      " 13  model_Eleron                                       2309 non-null   bool   \n",
      " 14  model_Forpost                                      2309 non-null   bool   \n",
      " 15  model_Granat-4                                     2309 non-null   bool   \n",
      " 16  model_Intercontinental ballistic missile           2309 non-null   bool   \n",
      " 17  model_Iskander-K                                   2309 non-null   bool   \n",
      " 18  model_Iskander-M                                   2309 non-null   bool   \n",
      " 19  model_Iskander-M and Iskander-K                    2309 non-null   bool   \n",
      " 20  model_Iskander-M/KN-23                             2309 non-null   bool   \n",
      " 21  model_Iskander-M/KN-23 and X-47 Kinzhal            2309 non-null   bool   \n",
      " 22  model_KAB                                          2309 non-null   bool   \n",
      " 23  model_KN-23                                        2309 non-null   bool   \n",
      " 24  model_Kalibr                                       2309 non-null   bool   \n",
      " 25  model_Kub                                          2309 non-null   bool   \n",
      " 26  model_Lancet                                       2309 non-null   bool   \n",
      " 27  model_Merlin-VR                                    2309 non-null   bool   \n",
      " 28  model_Mohajer-6                                    2309 non-null   bool   \n",
      " 29  model_Orion                                        2309 non-null   bool   \n",
      " 30  model_Orlan-10                                     2309 non-null   bool   \n",
      " 31  model_Orlan-10 and Orlan-30 and ZALA and Supercam  2309 non-null   bool   \n",
      " 32  model_Orlan-10 and Supercam                        2309 non-null   bool   \n",
      " 33  model_Orlan-10 and ZALA                            2309 non-null   bool   \n",
      " 34  model_Orlan-10 and ZALA and Supercam               2309 non-null   bool   \n",
      " 35  model_Orlan-30                                     2309 non-null   bool   \n",
      " 36  model_P-800 Oniks                                  2309 non-null   bool   \n",
      " 37  model_Reconnaissance UAV                           2309 non-null   bool   \n",
      " 38  model_Shahed-136/131                               2309 non-null   bool   \n",
      " 39  model_Shahed-136/131 and Lancet                    2309 non-null   bool   \n",
      " 40  model_Supercam                                     2309 non-null   bool   \n",
      " 41  model_Unknown Missile                              2309 non-null   bool   \n",
      " 42  model_Unknown UAV                                  2309 non-null   bool   \n",
      " 43  model_X-101/X-555                                  2309 non-null   bool   \n",
      " 44  model_X-101/X-555 and Kalibr                       2309 non-null   bool   \n",
      " 45  model_X-101/X-555 and Kalibr and Iskander-K        2309 non-null   bool   \n",
      " 46  model_X-101/X-555 and Kalibr and X-59/X-69         2309 non-null   bool   \n",
      " 47  model_X-101/X-555 and X-22 and Kalibr              2309 non-null   bool   \n",
      " 48  model_X-22                                         2309 non-null   bool   \n",
      " 49  model_X-22 and X-32                                2309 non-null   bool   \n",
      " 50  model_X-22/X-31P                                   2309 non-null   bool   \n",
      " 51  model_X-22/X-32                                    2309 non-null   bool   \n",
      " 52  model_X-31                                         2309 non-null   bool   \n",
      " 53  model_X-31P                                        2309 non-null   bool   \n",
      " 54  model_X-31PD                                       2309 non-null   bool   \n",
      " 55  model_X-35                                         2309 non-null   bool   \n",
      " 56  model_X-47 Kinzhal                                 2309 non-null   bool   \n",
      " 57  model_X-59                                         2309 non-null   bool   \n",
      " 58  model_X-59 and X-35                                2309 non-null   bool   \n",
      " 59  model_X-59/X-69                                    2309 non-null   bool   \n",
      " 60  model_X-59MK2                                      2309 non-null   bool   \n",
      " 61  model_X-69                                         2309 non-null   bool   \n",
      " 62  model_ZALA                                         2309 non-null   bool   \n",
      " 63  model_Картограф                                    2309 non-null   bool   \n",
      " 64  model_Молнія                                       2309 non-null   bool   \n",
      " 65  model_Привет-82                                    2309 non-null   bool   \n",
      " 66  model_Фенікс                                       2309 non-null   bool   \n",
      "dtypes: bool(62), float64(3), int32(2)\n",
      "memory usage: 230.0 KB\n"
     ]
    }
   ],
   "source": [
    "prob1_dataset.info()"
   ]
  }
 ],
 "metadata": {
  "kernelspec": {
   "display_name": "base",
   "language": "python",
   "name": "python3"
  },
  "language_info": {
   "codemirror_mode": {
    "name": "ipython",
    "version": 3
   },
   "file_extension": ".py",
   "mimetype": "text/x-python",
   "name": "python",
   "nbconvert_exporter": "python",
   "pygments_lexer": "ipython3",
   "version": "3.12.7"
  }
 },
 "nbformat": 4,
 "nbformat_minor": 2
}
