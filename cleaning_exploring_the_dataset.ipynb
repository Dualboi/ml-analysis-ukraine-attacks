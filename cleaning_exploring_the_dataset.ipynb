{
 "cells": [
  {
   "cell_type": "markdown",
   "metadata": {},
   "source": [
    "This notebook will clean and explore the dataset to then start creating models off of it and then solve the chosen problems."
   ]
  },
  {
   "cell_type": "code",
   "execution_count": 3,
   "metadata": {},
   "outputs": [],
   "source": [
    "#if using kaggle api \n",
    "\n",
    "#import kagglehub\n",
    "\n",
    "# Download latest version\n",
    "#path = kagglehub.dataset_download(\"piterfm/massive-missile-attacks-on-ukraine\")\n",
    "\n",
    "#print(\"Path to dataset files:\", path)"
   ]
  },
  {
   "cell_type": "code",
   "execution_count": 81,
   "metadata": {},
   "outputs": [],
   "source": [
    "%matplotlib inline\n",
    "import numpy as np\n",
    "import matplotlib\n",
    "import matplotlib.pyplot as plt\n",
    "import pandas as pd\n",
    "import seaborn as sns\n",
    "sns.set (style=\"darkgrid\")"
   ]
  },
  {
   "cell_type": "code",
   "execution_count": 94,
   "metadata": {},
   "outputs": [],
   "source": [
    "# from direct download\n",
    "\n",
    "df = pd.read_csv(\"Datasets/missile_attacks_daily.csv\")\n",
    "\n",
    "dataset = df"
   ]
  },
  {
   "cell_type": "code",
   "execution_count": 95,
   "metadata": {},
   "outputs": [
    {
     "data": {
      "text/html": [
       "<div>\n",
       "<style scoped>\n",
       "    .dataframe tbody tr th:only-of-type {\n",
       "        vertical-align: middle;\n",
       "    }\n",
       "\n",
       "    .dataframe tbody tr th {\n",
       "        vertical-align: top;\n",
       "    }\n",
       "\n",
       "    .dataframe thead th {\n",
       "        text-align: right;\n",
       "    }\n",
       "</style>\n",
       "<table border=\"1\" class=\"dataframe\">\n",
       "  <thead>\n",
       "    <tr style=\"text-align: right;\">\n",
       "      <th></th>\n",
       "      <th>time_start</th>\n",
       "      <th>time_end</th>\n",
       "      <th>model</th>\n",
       "      <th>launch_place</th>\n",
       "      <th>target</th>\n",
       "      <th>carrier</th>\n",
       "      <th>launched</th>\n",
       "      <th>destroyed</th>\n",
       "      <th>not_reach_goal</th>\n",
       "      <th>cross_border_belarus</th>\n",
       "      <th>back_russia</th>\n",
       "      <th>still_attacking</th>\n",
       "      <th>affected region</th>\n",
       "      <th>destroyed_details</th>\n",
       "      <th>launched_details</th>\n",
       "      <th>launch_place_details</th>\n",
       "      <th>source</th>\n",
       "    </tr>\n",
       "  </thead>\n",
       "  <tbody>\n",
       "    <tr>\n",
       "      <th>0</th>\n",
       "      <td>2025-04-05 05:30</td>\n",
       "      <td>2025-04-06 06:20</td>\n",
       "      <td>X-101/X-555</td>\n",
       "      <td>Saratov oblast</td>\n",
       "      <td>Ukraine</td>\n",
       "      <td>Tu-95MS</td>\n",
       "      <td>9.0</td>\n",
       "      <td>6.0</td>\n",
       "      <td>NaN</td>\n",
       "      <td>NaN</td>\n",
       "      <td>NaN</td>\n",
       "      <td>NaN</td>\n",
       "      <td>NaN</td>\n",
       "      <td>NaN</td>\n",
       "      <td>NaN</td>\n",
       "      <td>NaN</td>\n",
       "      <td>kpszsu/posts/pfbid02pyzebKrwSFj1ZGi4mWjutryUFc...</td>\n",
       "    </tr>\n",
       "    <tr>\n",
       "      <th>1</th>\n",
       "      <td>2025-04-06 05:00</td>\n",
       "      <td>2025-04-06 05:15</td>\n",
       "      <td>Kalibr</td>\n",
       "      <td>Bryansk oblast</td>\n",
       "      <td>Kyiv oblast</td>\n",
       "      <td>NaN</td>\n",
       "      <td>6.0</td>\n",
       "      <td>1.0</td>\n",
       "      <td>NaN</td>\n",
       "      <td>NaN</td>\n",
       "      <td>NaN</td>\n",
       "      <td>NaN</td>\n",
       "      <td>NaN</td>\n",
       "      <td>NaN</td>\n",
       "      <td>NaN</td>\n",
       "      <td>NaN</td>\n",
       "      <td>kpszsu/posts/pfbid02pyzebKrwSFj1ZGi4mWjutryUFc...</td>\n",
       "    </tr>\n",
       "    <tr>\n",
       "      <th>2</th>\n",
       "      <td>2025-04-05 20:00</td>\n",
       "      <td>2025-04-06 04:30</td>\n",
       "      <td>Shahed-136/131</td>\n",
       "      <td>Primorsko-Akhtarsk and Chauda, Crimea and Kurs...</td>\n",
       "      <td>Ukraine</td>\n",
       "      <td>NaN</td>\n",
       "      <td>109.0</td>\n",
       "      <td>40.0</td>\n",
       "      <td>53.0</td>\n",
       "      <td>NaN</td>\n",
       "      <td>NaN</td>\n",
       "      <td>NaN</td>\n",
       "      <td>['Sumy oblast', 'Kyiv oblast', 'Kharkiv oblast...</td>\n",
       "      <td>{'east': 16}</td>\n",
       "      <td>NaN</td>\n",
       "      <td>NaN</td>\n",
       "      <td>kpszsu/posts/pfbid02pyzebKrwSFj1ZGi4mWjutryUFc...</td>\n",
       "    </tr>\n",
       "    <tr>\n",
       "      <th>3</th>\n",
       "      <td>2025-04-06 01:50</td>\n",
       "      <td>2025-04-06 03:00</td>\n",
       "      <td>Kalibr</td>\n",
       "      <td>Black Sea</td>\n",
       "      <td>Ukraine</td>\n",
       "      <td>Navi</td>\n",
       "      <td>8.0</td>\n",
       "      <td>6.0</td>\n",
       "      <td>NaN</td>\n",
       "      <td>NaN</td>\n",
       "      <td>NaN</td>\n",
       "      <td>NaN</td>\n",
       "      <td>NaN</td>\n",
       "      <td>NaN</td>\n",
       "      <td>NaN</td>\n",
       "      <td>NaN</td>\n",
       "      <td>kpszsu/posts/pfbid02pyzebKrwSFj1ZGi4mWjutryUFc...</td>\n",
       "    </tr>\n",
       "    <tr>\n",
       "      <th>4</th>\n",
       "      <td>2025-04-04 21:00</td>\n",
       "      <td>2025-04-05 09:00</td>\n",
       "      <td>Shahed-136/131</td>\n",
       "      <td>Primorsko-Akhtarsk and Chauda, Crimea and Brya...</td>\n",
       "      <td>Ukraine</td>\n",
       "      <td>NaN</td>\n",
       "      <td>92.0</td>\n",
       "      <td>51.0</td>\n",
       "      <td>31.0</td>\n",
       "      <td>NaN</td>\n",
       "      <td>NaN</td>\n",
       "      <td>NaN</td>\n",
       "      <td>['Sumy oblast', 'Kyiv oblast', 'Dnipropetrovsk...</td>\n",
       "      <td>{'south': 3, 'east': 23, 'north': NaN, 'center...</td>\n",
       "      <td>NaN</td>\n",
       "      <td>NaN</td>\n",
       "      <td>kpszsu/posts/pfbid014VJsDMy6R5f8W1zN8XaALZZ72i...</td>\n",
       "    </tr>\n",
       "  </tbody>\n",
       "</table>\n",
       "</div>"
      ],
      "text/plain": [
       "         time_start          time_end           model  \\\n",
       "0  2025-04-05 05:30  2025-04-06 06:20     X-101/X-555   \n",
       "1  2025-04-06 05:00  2025-04-06 05:15          Kalibr   \n",
       "2  2025-04-05 20:00  2025-04-06 04:30  Shahed-136/131   \n",
       "3  2025-04-06 01:50  2025-04-06 03:00          Kalibr   \n",
       "4  2025-04-04 21:00  2025-04-05 09:00  Shahed-136/131   \n",
       "\n",
       "                                        launch_place       target  carrier  \\\n",
       "0                                     Saratov oblast      Ukraine  Tu-95MS   \n",
       "1                                     Bryansk oblast  Kyiv oblast      NaN   \n",
       "2  Primorsko-Akhtarsk and Chauda, Crimea and Kurs...      Ukraine      NaN   \n",
       "3                                          Black Sea      Ukraine     Navi   \n",
       "4  Primorsko-Akhtarsk and Chauda, Crimea and Brya...      Ukraine      NaN   \n",
       "\n",
       "   launched  destroyed  not_reach_goal  cross_border_belarus  back_russia  \\\n",
       "0       9.0        6.0             NaN                   NaN          NaN   \n",
       "1       6.0        1.0             NaN                   NaN          NaN   \n",
       "2     109.0       40.0            53.0                   NaN          NaN   \n",
       "3       8.0        6.0             NaN                   NaN          NaN   \n",
       "4      92.0       51.0            31.0                   NaN          NaN   \n",
       "\n",
       "   still_attacking                                    affected region  \\\n",
       "0              NaN                                                NaN   \n",
       "1              NaN                                                NaN   \n",
       "2              NaN  ['Sumy oblast', 'Kyiv oblast', 'Kharkiv oblast...   \n",
       "3              NaN                                                NaN   \n",
       "4              NaN  ['Sumy oblast', 'Kyiv oblast', 'Dnipropetrovsk...   \n",
       "\n",
       "                                   destroyed_details launched_details  \\\n",
       "0                                                NaN              NaN   \n",
       "1                                                NaN              NaN   \n",
       "2                                       {'east': 16}              NaN   \n",
       "3                                                NaN              NaN   \n",
       "4  {'south': 3, 'east': 23, 'north': NaN, 'center...              NaN   \n",
       "\n",
       "  launch_place_details                                             source  \n",
       "0                  NaN  kpszsu/posts/pfbid02pyzebKrwSFj1ZGi4mWjutryUFc...  \n",
       "1                  NaN  kpszsu/posts/pfbid02pyzebKrwSFj1ZGi4mWjutryUFc...  \n",
       "2                  NaN  kpszsu/posts/pfbid02pyzebKrwSFj1ZGi4mWjutryUFc...  \n",
       "3                  NaN  kpszsu/posts/pfbid02pyzebKrwSFj1ZGi4mWjutryUFc...  \n",
       "4                  NaN  kpszsu/posts/pfbid014VJsDMy6R5f8W1zN8XaALZZ72i...  "
      ]
     },
     "execution_count": 95,
     "metadata": {},
     "output_type": "execute_result"
    }
   ],
   "source": [
    "dataset.head()"
   ]
  },
  {
   "cell_type": "code",
   "execution_count": 96,
   "metadata": {},
   "outputs": [
    {
     "data": {
      "text/plain": [
       "2304"
      ]
     },
     "execution_count": 96,
     "metadata": {},
     "output_type": "execute_result"
    }
   ],
   "source": [
    "len(df)"
   ]
  },
  {
   "cell_type": "code",
   "execution_count": 97,
   "metadata": {},
   "outputs": [
    {
     "data": {
      "text/plain": [
       "Index(['time_start', 'time_end', 'model', 'launch_place', 'target', 'carrier',\n",
       "       'launched', 'destroyed', 'not_reach_goal', 'cross_border_belarus',\n",
       "       'back_russia', 'still_attacking', 'affected region',\n",
       "       'destroyed_details', 'launched_details', 'launch_place_details',\n",
       "       'source'],\n",
       "      dtype='object')"
      ]
     },
     "execution_count": 97,
     "metadata": {},
     "output_type": "execute_result"
    }
   ],
   "source": [
    "df.columns"
   ]
  },
  {
   "cell_type": "code",
   "execution_count": 100,
   "metadata": {},
   "outputs": [
    {
     "data": {
      "text/plain": [
       "time_start              datetime64[ns, UTC]\n",
       "time_end                datetime64[ns, UTC]\n",
       "model                                object\n",
       "launch_place                         object\n",
       "target                               object\n",
       "carrier                              object\n",
       "launched                            float64\n",
       "destroyed                           float64\n",
       "not_reach_goal                      float64\n",
       "cross_border_belarus                float64\n",
       "back_russia                         float64\n",
       "still_attacking                     float64\n",
       "affected region                      object\n",
       "destroyed_details                    object\n",
       "launched_details                     object\n",
       "launch_place_details                 object\n",
       "source                               object\n",
       "dtype: object"
      ]
     },
     "execution_count": 100,
     "metadata": {},
     "output_type": "execute_result"
    }
   ],
   "source": [
    "# Viewing the datatypes of the dataset for cleaning\n",
    "df.dtypes"
   ]
  },
  {
   "cell_type": "markdown",
   "metadata": {},
   "source": [
    "Cleaning the dataset"
   ]
  },
  {
   "cell_type": "markdown",
   "metadata": {},
   "source": [
    "Convert time_start and time_end to datetime"
   ]
  },
  {
   "cell_type": "code",
   "execution_count": 114,
   "metadata": {},
   "outputs": [],
   "source": [
    "# Convert to datetime\n",
    "df['time_start'] = pd.to_datetime(df['time_start'], errors='coerce')\n",
    "df['time_end'] = pd.to_datetime(df['time_end'], errors='coerce')\n"
   ]
  },
  {
   "cell_type": "code",
   "execution_count": 115,
   "metadata": {},
   "outputs": [
    {
     "name": "stdout",
     "output_type": "stream",
     "text": [
      "           time_start            time_end\n",
      "0 2025-04-05 05:30:00 2025-04-06 06:20:00\n",
      "1 2025-04-06 05:00:00 2025-04-06 05:15:00\n",
      "2 2025-04-05 20:00:00 2025-04-06 04:30:00\n",
      "3 2025-04-06 01:50:00 2025-04-06 03:00:00\n",
      "4 2025-04-04 21:00:00 2025-04-05 09:00:00\n",
      "time_start              datetime64[ns]\n",
      "time_end                datetime64[ns]\n",
      "model                           object\n",
      "launch_place                    object\n",
      "target                          object\n",
      "carrier                         object\n",
      "launched                       float64\n",
      "destroyed                      float64\n",
      "not_reach_goal                 float64\n",
      "cross_border_belarus           float64\n",
      "back_russia                    float64\n",
      "still_attacking                float64\n",
      "affected region                 object\n",
      "destroyed_details               object\n",
      "launched_details                object\n",
      "launch_place_details            object\n",
      "source                          object\n",
      "dtype: object\n"
     ]
    }
   ],
   "source": [
    "# Verifying the changes\n",
    "print(df[['time_start', 'time_end']].head())\n",
    "print(df.dtypes) # time_start and time_end should now be datetime64[ns]"
   ]
  },
  {
   "cell_type": "code",
   "execution_count": 117,
   "metadata": {},
   "outputs": [
    {
     "name": "stdout",
     "output_type": "stream",
     "text": [
      "time_start: 1582 NaT values (68.66%)\n",
      "time_end: 809 NaT values (35.11%)\n"
     ]
    }
   ],
   "source": [
    "# calculating the amount of nat Not a Time values in the two columns\n",
    "total_rows = len(df)\n",
    "\n",
    "# For time_start\n",
    "nat_start_count = df['time_start'].isna().sum()\n",
    "nat_start_pct = (nat_start_count / total_rows) * 100\n",
    "\n",
    "# For time_end\n",
    "nat_end_count = df['time_end'].isna().sum()\n",
    "nat_end_pct = (nat_end_count / total_rows) * 100\n",
    "\n",
    "print(f\"time_start: {nat_start_count} NaT values ({nat_start_pct:.2f}%)\")\n",
    "print(f\"time_end: {nat_end_count} NaT values ({nat_end_pct:.2f}%)\")\n"
   ]
  },
  {
   "cell_type": "markdown",
   "metadata": {},
   "source": [
    "Handling null/missing values in numeric fields like launched, destroyed"
   ]
  },
  {
   "cell_type": "code",
   "execution_count": null,
   "metadata": {},
   "outputs": [],
   "source": []
  },
  {
   "cell_type": "markdown",
   "metadata": {},
   "source": [
    "Parsing destroyed_details, launched_details, and launch_place_details if they contain structured info (e.g., JSON or consistent text format)"
   ]
  },
  {
   "cell_type": "code",
   "execution_count": null,
   "metadata": {},
   "outputs": [],
   "source": []
  },
  {
   "cell_type": "markdown",
   "metadata": {},
   "source": [
    "Exploring the dataset"
   ]
  },
  {
   "cell_type": "markdown",
   "metadata": {},
   "source": [
    "This graph shows Missile launched and UAVs vs Destroyed\n",
    "Overall trend:\n",
    "\n",
    "    There's a dramatic increase in missile/UAV activity starting around mid/late 2024.\n",
    "\n",
    "    This shows a clear escalation in attacks.\n",
    "\n",
    "2. Intercept effectiveness:\n",
    "\n",
    "    The destroyed line follows the launched line fairly closely, but:\n",
    "\n",
    "        In earlier periods, they're often very close — indicating high interception rates.\n",
    "\n",
    "        In the more recent months (late 2024–early 2025), the gap between launched and destroyed widens, suggesting:\n",
    "\n",
    "            Either more missiles are getting through.\n",
    "\n",
    "            Or defenses are being overwhelmed.\n",
    "\n",
    "            Or simply more launched than before — harder to keep up.\n",
    "\n",
    "3. Attack waves:\n",
    "\n",
    "    You can spot waves or cycles of intensity — peaks every few weeks.\n",
    "\n",
    "    Could be tied to strategic events, weather conditions, or specific campaigns."
   ]
  },
  {
   "cell_type": "code",
   "execution_count": 129,
   "metadata": {},
   "outputs": [],
   "source": [
    "# Resample weekly for trends\n",
    "weekly = df.resample('W')[['launched', 'destroyed']].sum().fillna(0)\n"
   ]
  },
  {
   "cell_type": "code",
   "execution_count": 135,
   "metadata": {},
   "outputs": [
    {
     "data": {
      "image/png": "[encoded data removed]",
      "text/plain": [
       "<Figure size 1400x600 with 1 Axes>"
      ]
     },
     "metadata": {},
     "output_type": "display_data"
    }
   ],
   "source": [
    "# 4 week rolling average (adjust window for different smoothing)\n",
    "weekly_smoothed = weekly.rolling(window=4, min_periods=1).mean()\n",
    "\n",
    "# plotting launch vs destroyed over time\n",
    "plt.figure(figsize=(14, 6))\n",
    "plt.plot(weekly_smoothed.index, weekly_smoothed['launched'], label='launched (4-week avg)' , color='steelblue')\n",
    "plt.plot(weekly_smoothed.index, weekly_smoothed['destroyed'], label='destroyed (4-week avg)', color='darkorange')\n",
    "plt.title(\"Missile/UAVs Launched vs Destroyed (4-week rolling avg)\")\n",
    "plt.xlabel(\"time_start\")\n",
    "plt.ylabel(\"Count\")\n",
    "plt.legend()\n",
    "plt.grid(True)\n",
    "plt.tight_layout()\n",
    "plt.show()"
   ]
  },
  {
   "cell_type": "code",
   "execution_count": null,
   "metadata": {},
   "outputs": [],
   "source": []
  }
 ],
 "metadata": {
  "kernelspec": {
   "display_name": "Python 3.12.7 ('base')",
   "language": "python",
   "name": "python3"
  },
  "language_info": {
   "codemirror_mode": {
    "name": "ipython",
    "version": 3
   },
   "file_extension": ".py",
   "mimetype": "text/x-python",
   "name": "python",
   "nbconvert_exporter": "python",
   "pygments_lexer": "ipython3",
   "version": "3.12.7"
  },
  "vscode": {
   "interpreter": {
    "hash": "40d3a090f54c6569ab1632332b64b2c03c39dcf918b08424e98f38b5ae0af88f"
   }
  }
 },
 "nbformat": 4,
 "nbformat_minor": 2
}
